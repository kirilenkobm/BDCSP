{
 "cells": [
  {
   "cell_type": "code",
   "execution_count": null,
   "metadata": {},
   "outputs": [],
   "source": [
    "# to check, whether the results depend on shuffling\n",
    "# test on the smallest set\n",
    "import subprocess\n",
    "import os\n",
    "import random\n",
    "import shutil\n",
    "from collections import Counter\n",
    "\n",
    "DATASET_DIR = \"../tests/input_files/test_100_50_30/\"\n",
    "TEMP_DIR = \"temp\"\n",
    "DATASET_FILES = os.listdir(DATASET_DIR)\n",
    "ANSWER = 30\n",
    "STRNUM = 50\n",
    "STRLEN = 100\n",
    "os.mkdir(TEMP_DIR) if not os.path.isdir(TEMP_DIR) else None"
   ]
  },
  {
   "cell_type": "code",
   "execution_count": null,
   "metadata": {},
   "outputs": [],
   "source": [
    "# create shuffled files\n",
    "to_check = random.choice(DATASET_FILES)\n",
    "to_check_path = os.path.join(DATASET_DIR, to_check)\n",
    "replicate_min = {}  # number of replicate -> minimal answer\n",
    "\n",
    "rep_files = []\n",
    "shuffle_cmd_templ = \"../shuffle_input.py \" + to_check_path + \" {} -o {}\"\n",
    "for i in range(1, STRNUM):\n",
    "    out_file = os.path.join(TEMP_DIR, \"rep_{}.txt\".format(i))\n",
    "    shuffle_cmd = shuffle_cmd_templ.format(i, out_file)\n",
    "    subprocess.call(shuffle_cmd, shell=True)\n",
    "    rep_files.append(out_file)"
   ]
  },
  {
   "cell_type": "code",
   "execution_count": null,
   "metadata": {},
   "outputs": [],
   "source": [
    "# call CSP for each file\n",
    "# a long stage\n",
    "csp_cmd_templ = \"../CSP {} {}\"\n",
    "\n",
    "for num, rep in enumerate(rep_files):\n",
    "    # get the minimal answer for each\n",
    "    for i in range(ANSWER, STRLEN):\n",
    "        csp_cmd = csp_cmd_templ.format(rep, i)\n",
    "        csp_out = subprocess.check_output(csp_cmd, shell=True).decode(\"utf-8\").split(\"\\n\")[1]\n",
    "        if csp_out == \"False\":\n",
    "            continue\n",
    "        # write the result then\n",
    "        replicate_min[num] = i\n",
    "        break"
   ]
  },
  {
   "cell_type": "code",
   "execution_count": null,
   "metadata": {},
   "outputs": [],
   "source": [
    "# visualize it\n",
    "min_times = Counter()\n",
    "for v in replicate_min.values():\n",
    "    min_times[v] += 1\n",
    "times_sort = sorted(min_times.keys())\n",
    "for t in range(times_sort[0], times_sort[-1] + 1):\n",
    "    app_ = min_times.get(t) if min_times.get(t) else 0\n",
    "    print(\"{}:\\n{}\".format(t, \"*\" * app_))\n",
    "# defenitely, algorithm is init string - dependent"
   ]
  },
  {
   "cell_type": "code",
   "execution_count": null,
   "metadata": {},
   "outputs": [],
   "source": [
    "shutil.rmtree(TEMP_DIR) if os.path.isdir(TEMP_DIR) else None"
   ]
  }
 ],
 "metadata": {
  "kernelspec": {
   "display_name": "Python 3",
   "language": "python",
   "name": "python3"
  },
  "language_info": {
   "codemirror_mode": {
    "name": "ipython",
    "version": 3
   },
   "file_extension": ".py",
   "mimetype": "text/x-python",
   "name": "python",
   "nbconvert_exporter": "python",
   "pygments_lexer": "ipython3",
   "version": "3.7.3"
  }
 },
 "nbformat": 4,
 "nbformat_minor": 2
}
