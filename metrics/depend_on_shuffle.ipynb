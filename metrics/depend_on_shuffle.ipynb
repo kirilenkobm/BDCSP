{
 "cells": [
  {
   "cell_type": "code",
   "execution_count": null,
   "metadata": {},
   "outputs": [],
   "source": [
    "# to check, whether the results depend on shuffling\n",
    "# test on the smallest set\n",
    "%matplotlib inline\n",
    "import matplotlib.pyplot as plt\n",
    "import subprocess\n",
    "import os\n",
    "import random\n",
    "import shutil\n",
    "from collections import Counter\n",
    "\n",
    "DATASET_DIR = \"../tests/input_files/test_100_50_25/\"\n",
    "TEMP_DIR = \"temp\"\n",
    "DATASET_FILES = os.listdir(DATASET_DIR)\n",
    "ANSWER = 25\n",
    "STRNUM = 50\n",
    "STRLEN = 100\n",
    "os.mkdir(TEMP_DIR) if not os.path.isdir(TEMP_DIR) else None"
   ]
  },
  {
   "cell_type": "code",
   "execution_count": null,
   "metadata": {},
   "outputs": [],
   "source": [
    "# create shuffled files\n",
    "to_check = random.choice(DATASET_FILES)\n",
    "to_check_path = os.path.join(DATASET_DIR, to_check)\n",
    "replicate_min = {}  # number of replicate -> minimal answer\n",
    "\n",
    "rep_files = []\n",
    "shuffle_cmd_templ = \"../shuffle_input.py \" + to_check_path + \" {} -o {} -c\"\n",
    "for i in range(1, STRNUM):\n",
    "    out_file = os.path.join(TEMP_DIR, \"rep_{}.txt\".format(i))\n",
    "    shuffle_cmd = shuffle_cmd_templ.format(i, out_file)\n",
    "    subprocess.call(shuffle_cmd, shell=True)\n",
    "    rep_files.append(out_file)"
   ]
  },
  {
   "cell_type": "code",
   "execution_count": null,
   "metadata": {},
   "outputs": [],
   "source": [
    "# call CSP for each file\n",
    "# a long stage\n",
    "csp_cmd_templ = \"../CSP {} {}\"\n",
    "\n",
    "for num, rep in enumerate(rep_files):\n",
    "    # get the minimal answer for each\n",
    "    for i in range(ANSWER, STRLEN):\n",
    "        csp_cmd = csp_cmd_templ.format(rep, i)\n",
    "        csp_out = subprocess.check_output(csp_cmd, shell=True).decode(\"utf-8\").split(\"\\n\")[1]\n",
    "        if csp_out == \"False\":\n",
    "            continue\n",
    "        # write the result then\n",
    "        replicate_min[num] = i\n",
    "        break"
   ]
  },
  {
   "cell_type": "code",
   "execution_count": null,
   "metadata": {},
   "outputs": [],
   "source": [
    "# visualize it\n",
    "min_times = Counter()\n",
    "for v in replicate_min.values():\n",
    "    min_times[v] += 1\n",
    "times_sort = sorted(min_times.keys())\n",
    "for t in range(times_sort[0], times_sort[-1] + 1):\n",
    "    app_ = min_times.get(t) if min_times.get(t) else 0\n",
    "    print(\"{}:\\n{}\".format(t, \"*\" * app_))\n",
    "# defenitely, algorithm is init string - dependent"
   ]
  },
  {
   "cell_type": "code",
   "execution_count": null,
   "metadata": {},
   "outputs": [],
   "source": [
    "# maybe get some statistics?\n",
    "rep_zeros = {}\n",
    "rep_k = {}\n",
    "nums = range(len(rep_files))\n",
    "maxes = []\n",
    "mins = []\n",
    "ks = []\n",
    "deltas = []\n",
    "aves = []\n",
    "\n",
    "for num, rep in enumerate(rep_files):\n",
    "    # get the minimal answer for each\n",
    "    f = open(rep, \"r\")\n",
    "    lines = [l[:-1] for l in f.readlines()]\n",
    "    f.close()\n",
    "    \n",
    "    k = replicate_min[num]\n",
    "    print(\"\\nReplicate num {} K: {}\".format(num, k))\n",
    "    zeros = sorted([line.count(\"0\") for line in lines])\n",
    "    rep_zeros[num] = zeros[1:]\n",
    "    rep_k[num] = k\n",
    "    ks.append(k)\n",
    "    max_zeros = zeros[-1]\n",
    "    min_zeros = zeros[1]  # because in 0 -> 0\n",
    "    maxes.append(max_zeros)\n",
    "    mins.append(min_zeros)\n",
    "    deltas.append(delta)\n",
    "    delta = max_zeros - min_zeros\n",
    "    ave = sum(zeros) / len(zeros)\n",
    "    aves.append(ave)\n",
    "    print(\"Min zeros: {}; Max: {}, D: {}\".format(min_zeros, max_zeros, delta))"
   ]
  },
  {
   "cell_type": "code",
   "execution_count": null,
   "metadata": {},
   "outputs": [],
   "source": [
    "# visualize zero distrs\n",
    "# maybe it is the key?\n",
    "fig = plt.figure(figsize=(20, 100))\n",
    "rep_num = len(rep_files)\n",
    "columns = 2\n",
    "rows = (rep_num // 2) + (rep_num % 2)\n",
    "zeros_num = len(rep_zeros[0])\n",
    "bins = zeros_num // 4\n",
    "keys_ord = sorted([k for k in rep_k.keys()], key=lambda x: rep_k[x])\n",
    "\n",
    "for i in range(1, rep_num + 1):\n",
    "    r_i = keys_ord[i - 1]\n",
    "    title = \"Replicate {}/ K = {}\".format(r_i, rep_k[r_i])\n",
    "    ax1 = fig.add_subplot(rows, columns, i)\n",
    "    plt.hist(rep_zeros[r_i], bins=bins)\n",
    "    ax1.title.set_text(title)\n"
   ]
  },
  {
   "cell_type": "code",
   "execution_count": null,
   "metadata": {},
   "outputs": [],
   "source": [
    "# another visualisation?\n",
    "fig = plt.figure(figsize=(15, 15))\n",
    "ax1 = fig.add_subplot(2, 2, 1)\n",
    "ax2 = fig.add_subplot(2, 2, 2)\n",
    "ax3 = fig.add_subplot(2, 2, 3)\n",
    "ax4 = fig.add_subplot(2, 2, 4)\n",
    "\n",
    "ax1.scatter(ks, maxes, s=2, color=\"red\")\n",
    "ax1.set_xlabel(\"K\")\n",
    "ax1.set_ylabel(\"Max zeros\")\n",
    "\n",
    "ax2.scatter(ks, mins, s=2, color=\"green\")\n",
    "ax2.set_xlabel(\"K\")\n",
    "ax2.set_ylabel(\"Min zeros\")\n",
    "\n",
    "ax3.scatter(ks, deltas, s=2, color=\"blue\")\n",
    "ax3.set_xlabel(\"K\")\n",
    "ax3.set_ylabel(\"Min max delta\")\n",
    "\n",
    "ax4.scatter(ks, aves, s=2, color=\"#222222\")\n",
    "ax4.set_xlabel(\"K\")\n",
    "ax4.set_ylabel(\"Average\")\n",
    "\n",
    "plt.show()"
   ]
  },
  {
   "cell_type": "code",
   "execution_count": null,
   "metadata": {},
   "outputs": [],
   "source": [
    "# let's have a look at this...\n",
    "from collections import defaultdict\n",
    "fig = plt.figure(figsize=(10, 10))\n",
    "K_range = list(range(min(ks), max(ks) + 1))\n",
    "K_range_size = len(K_range)\n",
    "max_R = 255\n",
    "min_R = 50\n",
    "G = \"10\"\n",
    "B = \"10\"\n",
    "C_ = \"#{}{}{}\"\n",
    "k_to_m_m = defaultdict(list)\n",
    "for elem in zip(ks, maxes, mins):\n",
    "    k_to_m_m[elem[0]].append((elem[1], elem[2]))\n",
    "\n",
    "k_keys = sorted(set(ks))\n",
    "step = int((max_R - min_R) / K_range_size)\n",
    "for num, k_ in enumerate(k_keys):\n",
    "    R = hex(min_R + step * num)[2:].upper()\n",
    "    k_vals = k_to_m_m[k_]\n",
    "    _max = [x[0] for x in k_vals]\n",
    "    _min = [x[1] for x in k_vals]\n",
    "    color = C_.format(R, G, B)\n",
    "    plt.scatter(_max, _min, s=3, color=color)\n",
    "plt.xlabel(\"Max zeros\")\n",
    "plt.ylabel(\"Min zeros\")\n",
    "plt.show()"
   ]
  },
  {
   "cell_type": "code",
   "execution_count": null,
   "metadata": {},
   "outputs": [],
   "source": [
    "shutil.rmtree(TEMP_DIR) if os.path.isdir(TEMP_DIR) else None"
   ]
  }
 ],
 "metadata": {
  "kernelspec": {
   "display_name": "Python 3",
   "language": "python",
   "name": "python3"
  },
  "language_info": {
   "codemirror_mode": {
    "name": "ipython",
    "version": 3
   },
   "file_extension": ".py",
   "mimetype": "text/x-python",
   "name": "python",
   "nbconvert_exporter": "python",
   "pygments_lexer": "ipython3",
   "version": "3.7.3"
  }
 },
 "nbformat": 4,
 "nbformat_minor": 2
}
